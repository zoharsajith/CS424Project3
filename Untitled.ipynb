{
 "cells": [
  {
   "cell_type": "code",
   "execution_count": 11,
   "metadata": {},
   "outputs": [],
   "source": [
    "f = open(\"movies.list\", \"r\")\n",
    "lines = f.readlines()"
   ]
  },
  {
   "cell_type": "code",
   "execution_count": 12,
   "metadata": {
    "scrolled": false
   },
   "outputs": [
    {
     "name": "stdout",
     "output_type": "stream",
     "text": [
      "                      name    year\n",
      "0               # (2012/I)  2012\\n\n",
      "1              # (2012/II)  2012\\n\n",
      "2                 # (2014)  2014\\n\n",
      "3                #1 (2005)  2005\\n\n",
      "4                #1 (2009)  2009\\n\n",
      "...                    ...     ...\n",
      "1024451      împetu (2017)  2017\\n\n",
      "1024452           ö (2012)  2012\\n\n",
      "1024453  öregHarcos (2016)    None\n",
      "1024454    überRICH (2017)  2017\\n\n",
      "1024455          üç (2012)  2012\\n\n",
      "\n",
      "[1024456 rows x 2 columns]\n"
     ]
    }
   ],
   "source": [
    "import pandas as pd\n",
    "\n",
    "\n",
    "l = []\n",
    "\n",
    "for line in lines:\n",
    "    line.lstrip()\n",
    "    line.rstrip()\n",
    "    line.strip()\n",
    "    x = line.split('\\t')\n",
    "    \n",
    "    \n",
    "    if \"????\" in line:\n",
    "        continue\n",
    "    elif \"(TV)\" in line:\n",
    "        continue\n",
    "    elif \"(V)\" in line:\n",
    "        continue\n",
    "    elif \"(VG)\" in line:\n",
    "        continue\n",
    "    elif \"(internet)\" in line:\n",
    "        continue\n",
    "    elif \"(re-release)\" in line:\n",
    "        continue\n",
    "    elif \"(Blu-ray premiere)\" in line:\n",
    "        continue\n",
    "    elif \"\\\"\" in line:\n",
    "        continue\n",
    "    else:\n",
    "        l.append(x)\n",
    "\n",
    "df = pd.DataFrame(l, columns=[\"name\",\"1\" ,\"2\" ,\"3\" ,\"4\" ,\"5\",  \"year\"])\n",
    "print(df.drop(columns=[\"1\" ,\"2\" ,\"3\" ,\"4\" ,\"5\"]))\n"
   ]
  },
  {
   "cell_type": "code",
   "execution_count": null,
   "metadata": {},
   "outputs": [],
   "source": [
    "\n"
   ]
  }
 ],
 "metadata": {
  "kernelspec": {
   "display_name": "Python 3",
   "language": "python",
   "name": "python3"
  },
  "language_info": {
   "codemirror_mode": {
    "name": "ipython",
    "version": 3
   },
   "file_extension": ".py",
   "mimetype": "text/x-python",
   "name": "python",
   "nbconvert_exporter": "python",
   "pygments_lexer": "ipython3",
   "version": "3.7.4"
  }
 },
 "nbformat": 4,
 "nbformat_minor": 2
}
